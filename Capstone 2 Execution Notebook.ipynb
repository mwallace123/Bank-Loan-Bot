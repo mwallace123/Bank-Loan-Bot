{
 "cells": [
  {
   "cell_type": "markdown",
   "metadata": {},
   "source": [
    "## Importing Modules"
   ]
  },
  {
   "cell_type": "code",
   "execution_count": 28,
   "metadata": {},
   "outputs": [],
   "source": [
    "import matplotlib.pyplot as plt\n",
    "import pandas as pd\n",
    "import numpy as np\n",
    "import sklearn\n",
    "import seaborn as sns\n",
    "import warnings\n",
    "warnings.filterwarnings(\"ignore\") # this will take away the red dialog boxes in the output terminal"
   ]
  },
  {
   "cell_type": "markdown",
   "metadata": {},
   "source": [
    "## Reading Data"
   ]
  },
  {
   "cell_type": "code",
   "execution_count": 29,
   "metadata": {},
   "outputs": [],
   "source": [
    "training_data = pd.read_csv('Capstone #2 training data.csv') # First mentor meeting, don't specify the 'r' mode otherwise data will be a mess\n",
    "testing_data = pd.read_csv('Capstone #2 test data.csv')"
   ]
  },
  {
   "cell_type": "code",
   "execution_count": 30,
   "metadata": {},
   "outputs": [
    {
     "data": {
      "text/html": [
       "<div>\n",
       "<style scoped>\n",
       "    .dataframe tbody tr th:only-of-type {\n",
       "        vertical-align: middle;\n",
       "    }\n",
       "\n",
       "    .dataframe tbody tr th {\n",
       "        vertical-align: top;\n",
       "    }\n",
       "\n",
       "    .dataframe thead th {\n",
       "        text-align: right;\n",
       "    }\n",
       "</style>\n",
       "<table border=\"1\" class=\"dataframe\">\n",
       "  <thead>\n",
       "    <tr style=\"text-align: right;\">\n",
       "      <th></th>\n",
       "      <th>Loan_ID</th>\n",
       "      <th>Gender</th>\n",
       "      <th>Married</th>\n",
       "      <th>Dependents</th>\n",
       "      <th>Education</th>\n",
       "      <th>Self_Employed</th>\n",
       "      <th>ApplicantIncome</th>\n",
       "      <th>CoapplicantIncome</th>\n",
       "      <th>LoanAmount</th>\n",
       "      <th>Loan_Amount_Term</th>\n",
       "      <th>Credit_History</th>\n",
       "      <th>Property_Area</th>\n",
       "    </tr>\n",
       "  </thead>\n",
       "  <tbody>\n",
       "    <tr>\n",
       "      <th>0</th>\n",
       "      <td>LP001015</td>\n",
       "      <td>Male</td>\n",
       "      <td>Yes</td>\n",
       "      <td>0</td>\n",
       "      <td>Graduate</td>\n",
       "      <td>No</td>\n",
       "      <td>5720</td>\n",
       "      <td>0</td>\n",
       "      <td>110.0</td>\n",
       "      <td>360.0</td>\n",
       "      <td>1.0</td>\n",
       "      <td>Urban</td>\n",
       "    </tr>\n",
       "    <tr>\n",
       "      <th>1</th>\n",
       "      <td>LP001022</td>\n",
       "      <td>Male</td>\n",
       "      <td>Yes</td>\n",
       "      <td>1</td>\n",
       "      <td>Graduate</td>\n",
       "      <td>No</td>\n",
       "      <td>3076</td>\n",
       "      <td>1500</td>\n",
       "      <td>126.0</td>\n",
       "      <td>360.0</td>\n",
       "      <td>1.0</td>\n",
       "      <td>Urban</td>\n",
       "    </tr>\n",
       "    <tr>\n",
       "      <th>2</th>\n",
       "      <td>LP001031</td>\n",
       "      <td>Male</td>\n",
       "      <td>Yes</td>\n",
       "      <td>2</td>\n",
       "      <td>Graduate</td>\n",
       "      <td>No</td>\n",
       "      <td>5000</td>\n",
       "      <td>1800</td>\n",
       "      <td>208.0</td>\n",
       "      <td>360.0</td>\n",
       "      <td>1.0</td>\n",
       "      <td>Urban</td>\n",
       "    </tr>\n",
       "    <tr>\n",
       "      <th>3</th>\n",
       "      <td>LP001035</td>\n",
       "      <td>Male</td>\n",
       "      <td>Yes</td>\n",
       "      <td>2</td>\n",
       "      <td>Graduate</td>\n",
       "      <td>No</td>\n",
       "      <td>2340</td>\n",
       "      <td>2546</td>\n",
       "      <td>100.0</td>\n",
       "      <td>360.0</td>\n",
       "      <td>NaN</td>\n",
       "      <td>Urban</td>\n",
       "    </tr>\n",
       "    <tr>\n",
       "      <th>4</th>\n",
       "      <td>LP001051</td>\n",
       "      <td>Male</td>\n",
       "      <td>No</td>\n",
       "      <td>0</td>\n",
       "      <td>Not Graduate</td>\n",
       "      <td>No</td>\n",
       "      <td>3276</td>\n",
       "      <td>0</td>\n",
       "      <td>78.0</td>\n",
       "      <td>360.0</td>\n",
       "      <td>1.0</td>\n",
       "      <td>Urban</td>\n",
       "    </tr>\n",
       "  </tbody>\n",
       "</table>\n",
       "</div>"
      ],
      "text/plain": [
       "    Loan_ID Gender Married Dependents     Education Self_Employed  \\\n",
       "0  LP001015   Male     Yes          0      Graduate            No   \n",
       "1  LP001022   Male     Yes          1      Graduate            No   \n",
       "2  LP001031   Male     Yes          2      Graduate            No   \n",
       "3  LP001035   Male     Yes          2      Graduate            No   \n",
       "4  LP001051   Male      No          0  Not Graduate            No   \n",
       "\n",
       "   ApplicantIncome  CoapplicantIncome  LoanAmount  Loan_Amount_Term  \\\n",
       "0             5720                  0       110.0             360.0   \n",
       "1             3076               1500       126.0             360.0   \n",
       "2             5000               1800       208.0             360.0   \n",
       "3             2340               2546       100.0             360.0   \n",
       "4             3276                  0        78.0             360.0   \n",
       "\n",
       "   Credit_History Property_Area  \n",
       "0             1.0         Urban  \n",
       "1             1.0         Urban  \n",
       "2             1.0         Urban  \n",
       "3             NaN         Urban  \n",
       "4             1.0         Urban  "
      ]
     },
     "execution_count": 30,
     "metadata": {},
     "output_type": "execute_result"
    }
   ],
   "source": [
    "testing_data.head() # Testing data has no target variable, so it cannot be used.  However, a prediction can be made with the models created."
   ]
  },
  {
   "cell_type": "markdown",
   "metadata": {},
   "source": [
    "## Wrangling The Data"
   ]
  },
  {
   "cell_type": "code",
   "execution_count": 31,
   "metadata": {},
   "outputs": [],
   "source": [
    "training_data['Loan_Status'].replace('Y', '1', inplace=True) # Quantized loan status into 1 from yes and 0 from no.\n",
    "training_data['Loan_Status'].replace('N', '0', inplace=True)"
   ]
  },
  {
   "cell_type": "code",
   "execution_count": 32,
   "metadata": {},
   "outputs": [],
   "source": [
    "training_data['Gender'].fillna(training_data['Gender'].mode()[0], inplace = True)  # Imputed the mode for these six features based on EDA exploration\n",
    "training_data['Married'].fillna(training_data['Married'].mode()[0], inplace = True)\n",
    "training_data['Dependents'].fillna(training_data['Dependents'].mode()[0], inplace = True)\n",
    "training_data['Credit_History'].fillna(training_data['Credit_History'].mode()[0], inplace = True)\n",
    "training_data['Self_Employed'].fillna(training_data['Self_Employed'].mode()[0], inplace = True)\n",
    "training_data['Loan_Amount_Term'].fillna(training_data['Loan_Amount_Term'].mode()[0], inplace = True) \n",
    "training_data['LoanAmount'].fillna(training_data['LoanAmount'].median(), inplace = True) # Imputing median for LoanAmount missing values."
   ]
  },
  {
   "cell_type": "code",
   "execution_count": 33,
   "metadata": {},
   "outputs": [],
   "source": [
    "training_data['Education'].replace('Graduate', '1', inplace=True) # Quantizing Education like was done with target variable.\n",
    "training_data['Education'].replace('Not Graduate', '0', inplace=True)\n",
    "\n",
    "training_data['Self_Employed'].replace('Yes', '1', inplace=True) # Quantizing Self_Employed like was done with target variable.\n",
    "training_data['Self_Employed'].replace('No', '0', inplace=True)\n",
    "\n",
    "training_data['Gender'].replace('Male', '1', inplace=True) # Quantizing Gender like was done with target variable.\n",
    "training_data['Gender'].replace('Female', '0', inplace=True)\n",
    "\n",
    "training_data['Married'].replace('Yes', '1', inplace=True) # Quantizing Married like was done with target variable.\n",
    "training_data['Married'].replace('No', '0', inplace=True)\n",
    "\n",
    "training_data['Dependents'].replace('3+', '3', inplace=True) # Fully quantized all Dependents.values so that this feature is numerical.\n",
    "\n",
    "training_data['Property_Area'].replace('Rural', '0', inplace=True) # Quantized Property Area based on values.\n",
    "training_data['Property_Area'].replace('Semiurban', '1', inplace=True) # Imputed values oriented so that extent of urbanization\n",
    "training_data['Property_Area'].replace('Urban', '2', inplace=True) # can be presented as a spectrum."
   ]
  },
  {
   "cell_type": "code",
   "execution_count": 34,
   "metadata": {},
   "outputs": [],
   "source": [
    "training_data['Property_Area'] = training_data['Property_Area'].astype(\"float64\")\n",
    "training_data['Loan_Status'] = training_data['Loan_Status'].astype(\"float64\") # Changing types\n",
    "training_data['Dependents'] = training_data['Dependents'].astype(\"float64\")\n",
    "training_data['Education'] = training_data['Education'].astype(\"float64\")\n",
    "training_data['Self_Employed'] = training_data['Self_Employed'].astype(\"float64\")\n",
    "training_data['Gender'] = training_data['Gender'].astype(\"float64\")\n",
    "training_data['Married'] = training_data['Married'].astype(\"float64\")"
   ]
  },
  {
   "cell_type": "markdown",
   "metadata": {},
   "source": [
    "## Feature Engineering"
   ]
  },
  {
   "cell_type": "code",
   "execution_count": 35,
   "metadata": {},
   "outputs": [],
   "source": [
    "bins = [0, 2500, 4000, 6000, 81000]\n",
    "group = ['Low', 'Average', 'High', 'Very High']\n",
    "training_data['Total_Income_bin'] = training_data['ApplicantIncome'] + training_data['CoapplicantIncome']\n",
    "training_data['Total_Income_bin'] = pd.cut(training_data['Total_Income_bin'], bins, labels = group)"
   ]
  },
  {
   "cell_type": "code",
   "execution_count": 36,
   "metadata": {},
   "outputs": [],
   "source": [
    "training_data = training_data.drop(['Loan_ID', 'ApplicantIncome', 'CoapplicantIncome'], axis=1) # Dropping columns"
   ]
  },
  {
   "cell_type": "code",
   "execution_count": 37,
   "metadata": {},
   "outputs": [
    {
     "name": "stdout",
     "output_type": "stream",
     "text": [
      "<class 'pandas.core.frame.DataFrame'>\n",
      "RangeIndex: 614 entries, 0 to 613\n",
      "Data columns (total 11 columns):\n",
      " #   Column            Non-Null Count  Dtype  \n",
      "---  ------            --------------  -----  \n",
      " 0   Gender            614 non-null    float64\n",
      " 1   Married           614 non-null    float64\n",
      " 2   Dependents        614 non-null    float64\n",
      " 3   Education         614 non-null    float64\n",
      " 4   Self_Employed     614 non-null    float64\n",
      " 5   LoanAmount        614 non-null    float64\n",
      " 6   Loan_Amount_Term  614 non-null    float64\n",
      " 7   Credit_History    614 non-null    float64\n",
      " 8   Property_Area     614 non-null    float64\n",
      " 9   Loan_Status       614 non-null    float64\n",
      " 10  Total_Income_bin  614 non-null    float64\n",
      "dtypes: float64(11)\n",
      "memory usage: 52.9 KB\n"
     ]
    }
   ],
   "source": [
    "training_data['Total_Income_bin'].replace('Low', '0', inplace=True)\n",
    "training_data['Total_Income_bin'].replace('Average', '1', inplace=True)\n",
    "training_data['Total_Income_bin'].replace('High', '2', inplace=True)\n",
    "training_data['Total_Income_bin'].replace('Very High', '3', inplace=True)\n",
    "training_data['Total_Income_bin'] = training_data['Property_Area'].astype(\"float64\")\n",
    "training_data.info()"
   ]
  },
  {
   "cell_type": "markdown",
   "metadata": {},
   "source": [
    "## Splitting Up the Training Data Into X and y"
   ]
  },
  {
   "cell_type": "code",
   "execution_count": 38,
   "metadata": {},
   "outputs": [],
   "source": [
    "X = training_data.drop(['Loan_Status'], axis=1)\n",
    "y = training_data['Loan_Status']"
   ]
  },
  {
   "cell_type": "markdown",
   "metadata": {},
   "source": [
    "## Defining LogisticRegression And RandomForest Models"
   ]
  },
  {
   "cell_type": "code",
   "execution_count": 39,
   "metadata": {},
   "outputs": [],
   "source": [
    "from sklearn.linear_model import LogisticRegression\n",
    "from sklearn.model_selection import train_test_split\n",
    "from sklearn.model_selection import GridSearchCV\n",
    "from sklearn.metrics import confusion_matrix\n",
    "from sklearn.metrics import classification_report\n",
    "import matplotlib.pyplot as plt\n",
    "from sklearn.metrics import roc_auc_score\n",
    "from sklearn.metrics import roc_curve\n",
    "\n",
    "def run_regression_accuracy(X_train, y_train, X_test, y_test):   \n",
    "    paramgrid = {'C': np.logspace(-8, 5, 15)}\n",
    "    grid_search = GridSearchCV(LogisticRegression(), paramgrid)\n",
    "    \n",
    "    grid_search.fit(X_train, y_train)\n",
    "    logreg = grid_search.best_estimator_\n",
    "    y_pred = logreg.predict(X_test)\n",
    "    print('Accuracy of logistic regression classifier on test set: {:.2f}'.format(logreg.score(X_test, y_test)))\n",
    "    cm = confusion_matrix(y_test, y_pred)\n",
    "    print('\\nConfusion matrix: \\n',cm)\n",
    "\n",
    "    print('\\nClassification report: \\n',classification_report(y_test, y_pred))\n",
    "\n",
    "    logit_roc_auc = roc_auc_score(y_test, logreg.predict(X_test))\n",
    "    fpr, tpr, thresholds = roc_curve(y_test, logreg.predict_proba(X_test)[:,1])\n",
    "\n",
    "    plt.figure()\n",
    "    plt.plot(fpr, tpr, label='Logistic Regression (area = %0.2f)' % logit_roc_auc)\n",
    "    plt.plot([0, 1], [0, 1],'r--')\n",
    "    plt.xlim([0.0, 1.0])\n",
    "    plt.ylim([0.0, 1.05])\n",
    "    plt.xlabel('False Positive Rate')\n",
    "    plt.ylabel('True Positive Rate')\n",
    "    plt.title('Receiver operating characteristic')\n",
    "    plt.legend(loc=\"lower right\")\n",
    "    plt.savefig('LOGISTIC REGRESSION RESULTS.png')\n",
    "    plt.show()\n",
    "  \n",
    "    return logreg"
   ]
  },
  {
   "cell_type": "code",
   "execution_count": 40,
   "metadata": {},
   "outputs": [],
   "source": [
    "from sklearn.ensemble import RandomForestClassifier\n",
    "from sklearn.model_selection import RandomizedSearchCV\n",
    "\n",
    "def run_random_forest_accuracy(X_train, y_train, X_test, y_test):   \n",
    "    paramgrid = {'max_depth': list(range(1, 20, 2)), 'n_estimators': list(range(1, 200, 20))}\n",
    "    grid_search = RandomizedSearchCV(RandomForestClassifier(random_state=1), paramgrid) # Could do a RandomizedSearchCV to save computing.\n",
    "    \n",
    "    grid_search.fit(X_train, y_train)\n",
    "    logreg = grid_search.best_estimator_\n",
    "    y_pred = logreg.predict(X_test)\n",
    "    print('Accuracy of random forest classifier on test set: {:.2f}'.format(logreg.score(X_test, y_test)))\n",
    "    cm = confusion_matrix(y_test, y_pred)\n",
    "    print('\\nConfusion matrix: \\n',cm)\n",
    "\n",
    "    print('\\nClassification report: \\n',classification_report(y_test, y_pred))\n",
    "\n",
    "    logit_roc_auc = roc_auc_score(y_test, logreg.predict(X_test))\n",
    "    fpr, tpr, thresholds = roc_curve(y_test, logreg.predict_proba(X_test)[:,1])\n",
    "\n",
    "    plt.figure()\n",
    "    plt.plot(fpr, tpr, label='Logistic Regression (area = %0.2f)' % logit_roc_auc)\n",
    "    plt.plot([0, 1], [0, 1],'r--')\n",
    "    plt.xlim([0.0, 1.0])\n",
    "    plt.ylim([0.0, 1.05])\n",
    "    plt.xlabel('False Positive Rate')\n",
    "    plt.ylabel('True Positive Rate')\n",
    "    plt.title('Receiver operating characteristic')\n",
    "    plt.legend(loc=\"lower right\")\n",
    "    plt.savefig('RANDOM FOREST RESULTS.png')\n",
    "    plt.show()\n",
    "  \n",
    "    return logreg"
   ]
  },
  {
   "cell_type": "markdown",
   "metadata": {},
   "source": [
    "## Splitting The Data Into Training And Testing Sets"
   ]
  },
  {
   "cell_type": "code",
   "execution_count": 41,
   "metadata": {},
   "outputs": [],
   "source": [
    "X_train, X_test, y_train, y_test = train_test_split(X, y, test_size=0.3, random_state=42)"
   ]
  },
  {
   "cell_type": "markdown",
   "metadata": {},
   "source": [
    "## Specifying Shap Values"
   ]
  },
  {
   "cell_type": "code",
   "execution_count": 42,
   "metadata": {},
   "outputs": [],
   "source": [
    "import shap"
   ]
  },
  {
   "cell_type": "markdown",
   "metadata": {},
   "source": [
    "## The best logistic regression model"
   ]
  },
  {
   "cell_type": "code",
   "execution_count": 43,
   "metadata": {},
   "outputs": [
    {
     "name": "stdout",
     "output_type": "stream",
     "text": [
      "Accuracy of logistic regression classifier on test set: 0.78\n",
      "\n",
      "Confusion matrix: \n",
      " [[ 27  38]\n",
      " [  2 118]]\n",
      "\n",
      "Classification report: \n",
      "               precision    recall  f1-score   support\n",
      "\n",
      "         0.0       0.93      0.42      0.57        65\n",
      "         1.0       0.76      0.98      0.86       120\n",
      "\n",
      "    accuracy                           0.78       185\n",
      "   macro avg       0.84      0.70      0.71       185\n",
      "weighted avg       0.82      0.78      0.76       185\n",
      "\n"
     ]
    },
    {
     "data": {
      "image/png": "[encoded data removed]",
      "text/plain": [
       "<Figure size 432x288 with 1 Axes>"
      ]
     },
     "metadata": {
      "needs_background": "light"
     },
     "output_type": "display_data"
    }
   ],
   "source": [
    "explainer = shap.LinearExplainer(run_regression_accuracy(X_train, y_train, X_test, y_test), X_train, feature_dependence=\"independent\")\n",
    "shap_values = explainer.shap_values(X_train)"
   ]
  },
  {
   "cell_type": "code",
   "execution_count": 44,
   "metadata": {},
   "outputs": [
    {
     "data": {
      "image/png": "[encoded data removed]",
      "text/plain": [
       "<Figure size 576x396 with 2 Axes>"
      ]
     },
     "metadata": {
      "needs_background": "light"
     },
     "output_type": "display_data"
    }
   ],
   "source": [
    "shap.summary_plot(shap_values, X_train)"
   ]
  },
  {
   "cell_type": "markdown",
   "metadata": {},
   "source": [
    "## The best random forest model"
   ]
  },
  {
   "cell_type": "code",
   "execution_count": 45,
   "metadata": {},
   "outputs": [
    {
     "name": "stdout",
     "output_type": "stream",
     "text": [
      "Accuracy of random forest classifier on test set: 0.78\n",
      "\n",
      "Confusion matrix: \n",
      " [[ 27  38]\n",
      " [  2 118]]\n",
      "\n",
      "Classification report: \n",
      "               precision    recall  f1-score   support\n",
      "\n",
      "         0.0       0.93      0.42      0.57        65\n",
      "         1.0       0.76      0.98      0.86       120\n",
      "\n",
      "    accuracy                           0.78       185\n",
      "   macro avg       0.84      0.70      0.71       185\n",
      "weighted avg       0.82      0.78      0.76       185\n",
      "\n"
     ]
    },
    {
     "data": {
      "image/png": "[encoded data removed]",
      "text/plain": [
       "<Figure size 432x288 with 1 Axes>"
      ]
     },
     "metadata": {
      "needs_background": "light"
     },
     "output_type": "display_data"
    }
   ],
   "source": [
    "explainer = shap.TreeExplainer(run_random_forest_accuracy(X_train, y_train, X_test, y_test), X_train, feature_dependence=\"independent\")\n",
    "shap_values_random_forest = explainer.shap_values(X_train)"
   ]
  },
  {
   "cell_type": "code",
   "execution_count": 46,
   "metadata": {},
   "outputs": [
    {
     "data": {
      "image/png": "[encoded data removed]",
      "text/plain": [
       "<Figure size 576x396 with 1 Axes>"
      ]
     },
     "metadata": {
      "needs_background": "light"
     },
     "output_type": "display_data"
    }
   ],
   "source": [
    "shap.summary_plot(shap_values_random_forest, X_train, plot_type = \"bar\")"
   ]
  }
 ],
 "metadata": {
  "kernelspec": {
   "display_name": "Python 3",
   "language": "python",
   "name": "python3"
  },
  "language_info": {
   "codemirror_mode": {
    "name": "ipython",
    "version": 3
   },
   "file_extension": ".py",
   "mimetype": "text/x-python",
   "name": "python",
   "nbconvert_exporter": "python",
   "pygments_lexer": "ipython3",
   "version": "3.7.6"
  }
 },
 "nbformat": 4,
 "nbformat_minor": 4
}
